{
 "cells": [
  {
   "cell_type": "markdown",
   "metadata": {},
   "source": [
    "# perceptron means single layered neural network"
   ]
  },
  {
   "cell_type": "code",
   "execution_count": 3,
   "metadata": {},
   "outputs": [],
   "source": [
    "import torch \n",
    "import numpy as np\n",
    "import matplotlib.pyplot as plt\n",
    "import torch.nn as nn\n",
    "from sklearn import datasets"
   ]
  },
  {
   "cell_type": "code",
   "execution_count": 5,
   "metadata": {},
   "outputs": [
    {
     "data": {
      "text/plain": [
       "<matplotlib.collections.PathCollection at 0x128c88160>"
      ]
     },
     "execution_count": 5,
     "metadata": {},
     "output_type": "execute_result"
    },
    {
     "data": {
      "image/png": "[encoded data removed]",
      "text/plain": [
       "<Figure size 432x288 with 1 Axes>"
      ]
     },
     "metadata": {
      "needs_background": "light"
     },
     "output_type": "display_data"
    }
   ],
   "source": [
    "n_pts = 100\n",
    "centers = [[-0.5, 0.5], [0.5, -0.5]]\n",
    "X, y = datasets.make_blobs(n_samples=n_pts, random_state=123, centers=centers, cluster_std=0.4)\n",
    "\n",
    "plt.scatter(X[y==0, 0], X[y==0, 1])\n",
    "plt.scatter(X[y==1, 0], X[y==1, 1])\n",
    "\n",
    "\n"
   ]
  },
  {
   "cell_type": "code",
   "execution_count": 14,
   "metadata": {},
   "outputs": [
    {
     "name": "stdout",
     "output_type": "stream",
     "text": [
      "torch.Size([100])\n"
     ]
    }
   ],
   "source": [
    "X_data = torch.tensor(X).float()\n",
    "y_data = torch.tensor(y).float()\n",
    "print(y_data.shape)\n",
    "y_data = torch.tensor(y.reshape(100,1)).float()"
   ]
  },
  {
   "cell_type": "code",
   "execution_count": 15,
   "metadata": {},
   "outputs": [],
   "source": [
    "class Model(nn.Module):\n",
    "    def __init__(self, input_size, output_size):\n",
    "        super().__init__()\n",
    "        self.linear = nn.Linear(in_features=input_size, out_features=output_size)\n",
    "    \n",
    "    def forward(self, x):\n",
    "        pred = torch.sigmoid(self.linear(x))\n",
    "        return pred\n",
    "    "
   ]
  },
  {
   "cell_type": "code",
   "execution_count": 16,
   "metadata": {},
   "outputs": [],
   "source": [
    "model = Model(2,1)\n",
    "w, b = model.parameters()\n",
    "w1, w2 = w.view(2)\n",
    "b1 = b[0]\n",
    "\n",
    "def get_params():\n",
    "    return (w1.item(), w2.item(), b1.item()) # .item yaparak tensor to integer\n"
   ]
  },
  {
   "cell_type": "code",
   "execution_count": 17,
   "metadata": {},
   "outputs": [],
   "source": [
    "def plot_fit(title):\n",
    "    plt.title(title)\n",
    "    w1, w2, b = get_params()\n",
    "    \n",
    "    x1 = np.array([-2.0, 2.0])\n",
    "    x2 = (w1*x1 + b) / -w2\n",
    "\n",
    "    plt.plot(x1, x2, 'r')\n",
    "    plt.scatter(X[y==0, 0], X[y==0, 1])\n",
    "    plt.scatter(X[y==1, 0], X[y==1, 1])"
   ]
  },
  {
   "cell_type": "code",
   "execution_count": 18,
   "metadata": {},
   "outputs": [
    {
     "data": {
      "image/png": "[encoded data removed]",
      "text/plain": [
       "<Figure size 432x288 with 1 Axes>"
      ]
     },
     "metadata": {
      "needs_background": "light"
     },
     "output_type": "display_data"
    }
   ],
   "source": [
    "plot_fit(\"initial model\")"
   ]
  },
  {
   "cell_type": "code",
   "execution_count": 19,
   "metadata": {},
   "outputs": [],
   "source": [
    "loss_func = nn.BCELoss()\n",
    "optimizer = torch.optim.SGD(params = model.parameters(), lr=0.01) # start backward prop"
   ]
  },
  {
   "cell_type": "code",
   "execution_count": 20,
   "metadata": {},
   "outputs": [
    {
     "name": "stdout",
     "output_type": "stream",
     "text": [
      "Epoch: 0, loss: 0.5348054766654968\n",
      "Epoch: 100, loss: 0.466196745634079\n",
      "Epoch: 200, loss: 0.41509953141212463\n",
      "Epoch: 300, loss: 0.3759543299674988\n",
      "Epoch: 400, loss: 0.3451280891895294\n",
      "Epoch: 500, loss: 0.3202468752861023\n",
      "Epoch: 600, loss: 0.299731582403183\n",
      "Epoch: 700, loss: 0.2825058698654175\n",
      "Epoch: 800, loss: 0.267816424369812\n",
      "Epoch: 900, loss: 0.2551226317882538\n",
      "Epoch: 1000, loss: 0.2440277487039566\n",
      "Epoch: 1100, loss: 0.23423419892787933\n",
      "Epoch: 1200, loss: 0.22551456093788147\n",
      "Epoch: 1300, loss: 0.21769212186336517\n",
      "Epoch: 1400, loss: 0.210627481341362\n",
      "Epoch: 1500, loss: 0.20420925319194794\n",
      "Epoch: 1600, loss: 0.19834701716899872\n",
      "Epoch: 1700, loss: 0.19296693801879883\n",
      "Epoch: 1800, loss: 0.1880079209804535\n",
      "Epoch: 1900, loss: 0.18341894447803497\n",
      "Epoch: 2000, loss: 0.17915712296962738\n",
      "Epoch: 2100, loss: 0.1751861423254013\n",
      "Epoch: 2200, loss: 0.17147499322891235\n",
      "Epoch: 2300, loss: 0.16799701750278473\n",
      "Epoch: 2400, loss: 0.16472892463207245\n",
      "Epoch: 2500, loss: 0.16165107488632202\n",
      "Epoch: 2600, loss: 0.15874578058719635\n",
      "Epoch: 2700, loss: 0.15599778294563293\n",
      "Epoch: 2800, loss: 0.1533934473991394\n",
      "Epoch: 2900, loss: 0.15092085301876068\n"
     ]
    }
   ],
   "source": [
    "epochs = 3000\n",
    "losses = []\n",
    "\n",
    "for i in range(epochs):\n",
    "    y_pred = model.forward(X_data)\n",
    "    loss = loss_func(y_pred, y_data)\n",
    "    \n",
    "    losses.append(loss)\n",
    "    \n",
    "    if i % 100 == 0:\n",
    "        print(f\"Epoch: {i}, loss: {loss.item()}\")\n",
    "    \n",
    "    optimizer.zero_grad()\n",
    "    loss.backward()\n",
    "    optimizer.step()"
   ]
  },
  {
   "cell_type": "code",
   "execution_count": null,
   "metadata": {},
   "outputs": [],
   "source": []
  },
  {
   "cell_type": "code",
   "execution_count": 21,
   "metadata": {},
   "outputs": [
    {
     "data": {
      "text/plain": [
       "[<matplotlib.lines.Line2D at 0x128df0f40>]"
      ]
     },
     "execution_count": 21,
     "metadata": {},
     "output_type": "execute_result"
    },
    {
     "data": {
      "image/png": "[encoded data removed]",
      "text/plain": [
       "<Figure size 432x288 with 1 Axes>"
      ]
     },
     "metadata": {
      "needs_background": "light"
     },
     "output_type": "display_data"
    }
   ],
   "source": [
    "plt.xlabel(\"epoch\")\n",
    "plt.ylabel(\"loss\")\n",
    "plt.plot(range(epochs),losses)"
   ]
  },
  {
   "cell_type": "code",
   "execution_count": 22,
   "metadata": {},
   "outputs": [
    {
     "data": {
      "image/png": "[encoded data removed]",
      "text/plain": [
       "<Figure size 432x288 with 1 Axes>"
      ]
     },
     "metadata": {
      "needs_background": "light"
     },
     "output_type": "display_data"
    }
   ],
   "source": [
    "plot_fit(\"Trained model\")"
   ]
  },
  {
   "cell_type": "code",
   "execution_count": null,
   "metadata": {},
   "outputs": [],
   "source": []
  }
 ],
 "metadata": {
  "kernelspec": {
   "display_name": "Python 3",
   "language": "python",
   "name": "python3"
  },
  "language_info": {
   "codemirror_mode": {
    "name": "ipython",
    "version": 3
   },
   "file_extension": ".py",
   "mimetype": "text/x-python",
   "name": "python",
   "nbconvert_exporter": "python",
   "pygments_lexer": "ipython3",
   "version": "3.8.5"
  }
 },
 "nbformat": 4,
 "nbformat_minor": 4
}
