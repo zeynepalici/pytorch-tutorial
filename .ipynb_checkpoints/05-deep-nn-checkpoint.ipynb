{
 "cells": [
  {
   "cell_type": "code",
   "execution_count": 1,
   "metadata": {},
   "outputs": [],
   "source": [
    "import torch\n",
    "import numpy as np\n",
    "import matplotlib.pyplot as plt\n",
    "import torch.nn as nn\n",
    "from sklearn import datasets"
   ]
  },
  {
   "cell_type": "code",
   "execution_count": 2,
   "metadata": {},
   "outputs": [
    {
     "data": {
      "text/plain": [
       "<matplotlib.collections.PathCollection at 0x12b4cedc0>"
      ]
     },
     "execution_count": 2,
     "metadata": {},
     "output_type": "execute_result"
    },
    {
     "data": {
      "image/png": "[encoded data removed]",
      "text/plain": [
       "<Figure size 432x288 with 1 Axes>"
      ]
     },
     "metadata": {
      "needs_background": "light"
     },
     "output_type": "display_data"
    }
   ],
   "source": [
    "n_pts = 500\n",
    "X, y = datasets.make_circles(n_samples=n_pts, random_state=123, noise=0.1, factor=0.2)\n",
    "\n",
    "plt.scatter(X[y==0, 0], X[y==0, 1])\n",
    "plt.scatter(X[y==1, 0], X[y==1, 1])"
   ]
  },
  {
   "cell_type": "code",
   "execution_count": 4,
   "metadata": {},
   "outputs": [],
   "source": [
    "X_data = torch.tensor(X).float()\n",
    "y_data = torch.tensor(y.reshape(500,1)).float()"
   ]
  },
  {
   "cell_type": "code",
   "execution_count": 5,
   "metadata": {},
   "outputs": [],
   "source": [
    "class Model(nn.Module):\n",
    "    def __init__(self, input_size, H1, output_size):\n",
    "        super().__init__()\n",
    "        self.linear = nn.Linear(input_size, H1)\n",
    "        self.linear2 = nn.Linear(H1, output_size)\n",
    "        \n",
    "    def forward(self, x):\n",
    "        x = torch.relu(self.linear(x)) #linear wx+ b\n",
    "        x = torch.sigmoid(self.linear2(x))\n",
    "        return x\n",
    "    \n",
    "    def predict(self, x):\n",
    "        return int(torch.round(self.forward(x)).item())"
   ]
  },
  {
   "cell_type": "code",
   "execution_count": 6,
   "metadata": {},
   "outputs": [
    {
     "name": "stdout",
     "output_type": "stream",
     "text": [
      "[Parameter containing:\n",
      "tensor([[-0.5816,  0.5348],\n",
      "        [-0.6786, -0.5958],\n",
      "        [ 0.6190, -0.6130],\n",
      "        [ 0.5273, -0.2562]], requires_grad=True), Parameter containing:\n",
      "tensor([ 0.0258, -0.1547,  0.2540,  0.4104], requires_grad=True), Parameter containing:\n",
      "tensor([[ 0.1177, -0.2532, -0.4771, -0.0993]], requires_grad=True), Parameter containing:\n",
      "tensor([-0.0464], requires_grad=True)]\n"
     ]
    }
   ],
   "source": [
    "model = Model(2,4,1)\n",
    "print(list(model.parameters()))"
   ]
  },
  {
   "cell_type": "code",
   "execution_count": 7,
   "metadata": {},
   "outputs": [],
   "source": [
    "loss_func = nn.BCELoss()\n",
    "optimizer = torch.optim.Adam(model.parameters(), lr=0.01)"
   ]
  },
  {
   "cell_type": "code",
   "execution_count": 9,
   "metadata": {},
   "outputs": [
    {
     "name": "stdout",
     "output_type": "stream",
     "text": [
      "Epoch: 0, loss: 0.679648756980896\n",
      "Epoch: 100, loss: 0.3031671941280365\n",
      "Epoch: 200, loss: 0.08369830250740051\n",
      "Epoch: 300, loss: 0.03523515164852142\n",
      "Epoch: 400, loss: 0.019885696470737457\n",
      "Epoch: 500, loss: 0.01297940406948328\n",
      "Epoch: 600, loss: 0.009218021295964718\n",
      "Epoch: 700, loss: 0.00691952183842659\n",
      "Epoch: 800, loss: 0.005404046270996332\n",
      "Epoch: 900, loss: 0.004346389323472977\n",
      "Epoch: 1000, loss: 0.0035756744910031557\n",
      "Epoch: 1100, loss: 0.0029947194270789623\n",
      "Epoch: 1200, loss: 0.0025446119252592325\n",
      "Epoch: 1300, loss: 0.002188397105783224\n",
      "Epoch: 1400, loss: 0.0019008443923667073\n",
      "Epoch: 1500, loss: 0.001665267744101584\n",
      "Epoch: 1600, loss: 0.001469775103032589\n",
      "Epoch: 1700, loss: 0.0013054462615400553\n",
      "Epoch: 1800, loss: 0.0011659875744953752\n",
      "Epoch: 1900, loss: 0.0010466070380061865\n",
      "Epoch: 2000, loss: 0.0009436149848625064\n",
      "Epoch: 2100, loss: 0.0008539463742636144\n",
      "Epoch: 2200, loss: 0.000775580236222595\n",
      "Epoch: 2300, loss: 0.0007066369289532304\n",
      "Epoch: 2400, loss: 0.0006455698749050498\n",
      "Epoch: 2500, loss: 0.0005913471104577184\n",
      "Epoch: 2600, loss: 0.000543010130058974\n",
      "Epoch: 2700, loss: 0.0004996689385734499\n",
      "Epoch: 2800, loss: 0.00046065793139860034\n",
      "Epoch: 2900, loss: 0.00042550056241452694\n"
     ]
    }
   ],
   "source": [
    "epochs = 3000\n",
    "losses = []\n",
    "\n",
    "for i in range(epochs):\n",
    "    y_pred = model(X_data)\n",
    "    loss = loss_func(y_pred, y_data)\n",
    "    \n",
    "    losses.append(loss)\n",
    "    \n",
    "    if i % 100 == 0:\n",
    "        print(f\"Epoch: {i}, loss: {loss}\")\n",
    "        \n",
    "    optimizer.zero_grad()\n",
    "    loss.backward()\n",
    "    optimizer.step()"
   ]
  },
  {
   "cell_type": "code",
   "execution_count": 10,
   "metadata": {},
   "outputs": [
    {
     "data": {
      "text/plain": [
       "[<matplotlib.lines.Line2D at 0x12b8b4040>]"
      ]
     },
     "execution_count": 10,
     "metadata": {},
     "output_type": "execute_result"
    },
    {
     "data": {
      "image/png": "[encoded data removed]",
      "text/plain": [
       "<Figure size 432x288 with 1 Axes>"
      ]
     },
     "metadata": {
      "needs_background": "light"
     },
     "output_type": "display_data"
    }
   ],
   "source": [
    "plt.xlabel('epoch')\n",
    "plt.ylabel('loss')\n",
    "plt.plot(range(epochs),losses)"
   ]
  },
  {
   "cell_type": "code",
   "execution_count": 11,
   "metadata": {},
   "outputs": [
    {
     "name": "stdout",
     "output_type": "stream",
     "text": [
      "1\n"
     ]
    }
   ],
   "source": [
    "x = 0.025\n",
    "y = 0.025\n",
    "point =torch.tensor([x,y])\n",
    "\n",
    "prediction = model.predict(point)\n",
    "print(prediction)"
   ]
  },
  {
   "cell_type": "code",
   "execution_count": null,
   "metadata": {},
   "outputs": [],
   "source": []
  }
 ],
 "metadata": {
  "kernelspec": {
   "display_name": "Python 3",
   "language": "python",
   "name": "python3"
  },
  "language_info": {
   "codemirror_mode": {
    "name": "ipython",
    "version": 3
   },
   "file_extension": ".py",
   "mimetype": "text/x-python",
   "name": "python",
   "nbconvert_exporter": "python",
   "pygments_lexer": "ipython3",
   "version": "3.8.5"
  }
 },
 "nbformat": 4,
 "nbformat_minor": 4
}
