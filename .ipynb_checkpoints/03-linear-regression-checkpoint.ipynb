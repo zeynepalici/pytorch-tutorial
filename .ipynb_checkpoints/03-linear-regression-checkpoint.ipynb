{
 "cells": [
  {
   "cell_type": "code",
   "execution_count": 1,
   "metadata": {},
   "outputs": [],
   "source": [
    "import torch\n",
    "import torch.nn as nn\n",
    "import matplotlib.pyplot as plt\n",
    "import numpy as np\n",
    "\n",
    "#torch.manual_seed(2)"
   ]
  },
  {
   "cell_type": "code",
   "execution_count": 2,
   "metadata": {},
   "outputs": [
    {
     "data": {
      "text/plain": [
       "[<matplotlib.lines.Line2D at 0x12063d760>]"
      ]
     },
     "execution_count": 2,
     "metadata": {},
     "output_type": "execute_result"
    },
    {
     "data": {
      "image/png": "[encoded data removed]",
      "text/plain": [
       "<Figure size 432x288 with 1 Axes>"
      ]
     },
     "metadata": {
      "needs_background": "light"
     },
     "output_type": "display_data"
    }
   ],
   "source": [
    "X = torch.randn(100,1) * 10\n",
    "y = X + torch.randn(100,1)\n",
    "\n",
    "plt.ylabel('y')\n",
    "plt.xlabel('x')\n",
    "plt.plot(X,y,'o')"
   ]
  },
  {
   "cell_type": "code",
   "execution_count": 3,
   "metadata": {},
   "outputs": [],
   "source": [
    "model = nn.Linear(in_features=1, out_features=1)\n",
    "w, b = model.parameters()"
   ]
  },
  {
   "cell_type": "code",
   "execution_count": 4,
   "metadata": {},
   "outputs": [
    {
     "name": "stdout",
     "output_type": "stream",
     "text": [
      "Parameter containing:\n",
      "tensor([[-0.0724]], requires_grad=True)\n"
     ]
    }
   ],
   "source": [
    "print(w)"
   ]
  },
  {
   "cell_type": "code",
   "execution_count": 5,
   "metadata": {},
   "outputs": [],
   "source": [
    "def get_params():\n",
    "    return (w[0,0].item(), b[0].item())"
   ]
  },
  {
   "cell_type": "code",
   "execution_count": 6,
   "metadata": {},
   "outputs": [
    {
     "data": {
      "image/png": "[encoded data removed]",
      "text/plain": [
       "<Figure size 432x288 with 1 Axes>"
      ]
     },
     "metadata": {
      "needs_background": "light"
     },
     "output_type": "display_data"
    }
   ],
   "source": [
    "def plot_fit(title):\n",
    "    plt.title(title)\n",
    "    w1, b1 = get_params()\n",
    "    \n",
    "    x1 = np.array([-30,30])\n",
    "    y1 = w1 * x1 + b1\n",
    "    \n",
    "    plt.plot(x1,y1,'r')\n",
    "    plt.scatter(X, y)\n",
    "    plt.show()\n",
    "\n",
    "plot_fit(\"initial model\")\n",
    "    \n",
    "    \n",
    "    "
   ]
  },
  {
   "cell_type": "code",
   "execution_count": 7,
   "metadata": {},
   "outputs": [],
   "source": [
    "loss_func = nn.MSELoss()\n",
    "optimizer = torch.optim.SGD(model.parameters(), lr=0.005)"
   ]
  },
  {
   "cell_type": "code",
   "execution_count": 8,
   "metadata": {},
   "outputs": [
    {
     "name": "stdout",
     "output_type": "stream",
     "text": [
      "epoch: 0, loss: 120.6675796508789\n",
      "epoch: 1, loss: 1.6422163248062134\n",
      "epoch: 2, loss: 1.4637547731399536\n",
      "epoch: 3, loss: 1.4497283697128296\n",
      "epoch: 4, loss: 1.436203956604004\n",
      "epoch: 5, loss: 1.4229487180709839\n",
      "epoch: 6, loss: 1.409956932067871\n",
      "epoch: 7, loss: 1.3972243070602417\n",
      "epoch: 8, loss: 1.3847441673278809\n",
      "epoch: 9, loss: 1.3725131750106812\n",
      "epoch: 10, loss: 1.3605252504348755\n",
      "epoch: 11, loss: 1.34877610206604\n",
      "epoch: 12, loss: 1.3372607231140137\n",
      "epoch: 13, loss: 1.3259741067886353\n",
      "epoch: 14, loss: 1.3149126768112183\n",
      "epoch: 15, loss: 1.3040707111358643\n",
      "epoch: 16, loss: 1.2934449911117554\n",
      "epoch: 17, loss: 1.2830307483673096\n",
      "epoch: 18, loss: 1.272823452949524\n",
      "epoch: 19, loss: 1.2628196477890015\n",
      "epoch: 20, loss: 1.2530144453048706\n",
      "epoch: 21, loss: 1.2434049844741821\n",
      "epoch: 22, loss: 1.233986258506775\n",
      "epoch: 23, loss: 1.2247549295425415\n",
      "epoch: 24, loss: 1.2157076597213745\n",
      "epoch: 25, loss: 1.2068400382995605\n",
      "epoch: 26, loss: 1.1981490850448608\n",
      "epoch: 27, loss: 1.1896309852600098\n",
      "epoch: 28, loss: 1.181282639503479\n",
      "epoch: 29, loss: 1.173100471496582\n",
      "epoch: 30, loss: 1.1650805473327637\n",
      "epoch: 31, loss: 1.1572208404541016\n",
      "epoch: 32, loss: 1.1495171785354614\n",
      "epoch: 33, loss: 1.1419670581817627\n",
      "epoch: 34, loss: 1.1345669031143188\n",
      "epoch: 35, loss: 1.1273144483566284\n",
      "epoch: 36, loss: 1.1202058792114258\n",
      "epoch: 37, loss: 1.1132389307022095\n",
      "epoch: 38, loss: 1.1064106225967407\n",
      "epoch: 39, loss: 1.0997182130813599\n",
      "epoch: 40, loss: 1.0931589603424072\n",
      "epoch: 41, loss: 1.0867301225662231\n",
      "epoch: 42, loss: 1.080429196357727\n",
      "epoch: 43, loss: 1.074254035949707\n",
      "epoch: 44, loss: 1.0682011842727661\n",
      "epoch: 45, loss: 1.0622693300247192\n",
      "epoch: 46, loss: 1.0564556121826172\n",
      "epoch: 47, loss: 1.0507569313049316\n",
      "epoch: 48, loss: 1.0451723337173462\n",
      "epoch: 49, loss: 1.0396980047225952\n",
      "epoch: 50, loss: 1.03433358669281\n",
      "epoch: 51, loss: 1.0290755033493042\n",
      "epoch: 52, loss: 1.023922085762024\n",
      "epoch: 53, loss: 1.0188709497451782\n",
      "epoch: 54, loss: 1.0139203071594238\n",
      "epoch: 55, loss: 1.0090687274932861\n",
      "epoch: 56, loss: 1.0043134689331055\n",
      "epoch: 57, loss: 0.9996528029441833\n",
      "epoch: 58, loss: 0.9950847625732422\n",
      "epoch: 59, loss: 0.9906078577041626\n",
      "epoch: 60, loss: 0.9862197637557983\n",
      "epoch: 61, loss: 0.9819192290306091\n",
      "epoch: 62, loss: 0.9777041077613831\n",
      "epoch: 63, loss: 0.9735730886459351\n",
      "epoch: 64, loss: 0.9695238471031189\n",
      "epoch: 65, loss: 0.9655555486679077\n",
      "epoch: 66, loss: 0.9616661071777344\n",
      "epoch: 67, loss: 0.9578540325164795\n",
      "epoch: 68, loss: 0.9541178345680237\n",
      "epoch: 69, loss: 0.950455904006958\n",
      "epoch: 70, loss: 0.9468672871589661\n",
      "epoch: 71, loss: 0.9433495998382568\n",
      "epoch: 72, loss: 0.9399017095565796\n",
      "epoch: 73, loss: 0.9365230798721313\n",
      "epoch: 74, loss: 0.9332112073898315\n",
      "epoch: 75, loss: 0.9299657344818115\n",
      "epoch: 76, loss: 0.9267844557762146\n",
      "epoch: 77, loss: 0.9236665368080139\n",
      "epoch: 78, loss: 0.9206106066703796\n",
      "epoch: 79, loss: 0.9176156520843506\n",
      "epoch: 80, loss: 0.9146801233291626\n",
      "epoch: 81, loss: 0.9118031859397888\n",
      "epoch: 82, loss: 0.9089832305908203\n",
      "epoch: 83, loss: 0.9062195420265198\n",
      "epoch: 84, loss: 0.903511106967926\n",
      "epoch: 85, loss: 0.9008561968803406\n",
      "epoch: 86, loss: 0.8982544541358948\n",
      "epoch: 87, loss: 0.8957042098045349\n",
      "epoch: 88, loss: 0.8932050466537476\n",
      "epoch: 89, loss: 0.8907554149627686\n",
      "epoch: 90, loss: 0.8883544206619263\n",
      "epoch: 91, loss: 0.8860012292861938\n",
      "epoch: 92, loss: 0.8836947083473206\n",
      "epoch: 93, loss: 0.8814343214035034\n",
      "epoch: 94, loss: 0.8792188763618469\n",
      "epoch: 95, loss: 0.8770477175712585\n",
      "epoch: 96, loss: 0.8749194145202637\n",
      "epoch: 97, loss: 0.8728337287902832\n",
      "epoch: 98, loss: 0.8707894086837769\n",
      "epoch: 99, loss: 0.8687858581542969\n",
      "epoch: 100, loss: 0.8668221831321716\n",
      "epoch: 101, loss: 0.8648974895477295\n",
      "epoch: 102, loss: 0.8630112409591675\n",
      "epoch: 103, loss: 0.8611621856689453\n",
      "epoch: 104, loss: 0.8593501448631287\n",
      "epoch: 105, loss: 0.8575742244720459\n",
      "epoch: 106, loss: 0.8558338284492493\n",
      "epoch: 107, loss: 0.8541276454925537\n",
      "epoch: 108, loss: 0.852455735206604\n",
      "epoch: 109, loss: 0.8508169054985046\n",
      "epoch: 110, loss: 0.8492109179496765\n",
      "epoch: 111, loss: 0.8476366400718689\n",
      "epoch: 112, loss: 0.8460935950279236\n",
      "epoch: 113, loss: 0.8445815443992615\n",
      "epoch: 114, loss: 0.8430993556976318\n",
      "epoch: 115, loss: 0.8416470289230347\n",
      "epoch: 116, loss: 0.8402233123779297\n",
      "epoch: 117, loss: 0.8388279676437378\n",
      "epoch: 118, loss: 0.837460458278656\n",
      "epoch: 119, loss: 0.8361198902130127\n",
      "epoch: 120, loss: 0.8348063826560974\n",
      "epoch: 121, loss: 0.833518922328949\n",
      "epoch: 122, loss: 0.8322569131851196\n",
      "epoch: 123, loss: 0.8310201168060303\n",
      "epoch: 124, loss: 0.8298078775405884\n",
      "epoch: 125, loss: 0.8286198377609253\n",
      "epoch: 126, loss: 0.8274553418159485\n",
      "epoch: 127, loss: 0.8263139128684998\n",
      "epoch: 128, loss: 0.8251956105232239\n",
      "epoch: 129, loss: 0.8240993022918701\n",
      "epoch: 130, loss: 0.8230247497558594\n",
      "epoch: 131, loss: 0.8219718337059021\n",
      "epoch: 132, loss: 0.8209395408630371\n",
      "epoch: 133, loss: 0.8199279308319092\n",
      "epoch: 134, loss: 0.8189365863800049\n",
      "epoch: 135, loss: 0.8179647922515869\n",
      "epoch: 136, loss: 0.8170124888420105\n",
      "epoch: 137, loss: 0.8160789608955383\n",
      "epoch: 138, loss: 0.8151642084121704\n",
      "epoch: 139, loss: 0.814267635345459\n",
      "epoch: 140, loss: 0.8133886456489563\n",
      "epoch: 141, loss: 0.8125274181365967\n",
      "epoch: 142, loss: 0.8116828799247742\n",
      "epoch: 143, loss: 0.8108556270599365\n",
      "epoch: 144, loss: 0.8100447058677673\n",
      "epoch: 145, loss: 0.8092499375343323\n",
      "epoch: 146, loss: 0.8084710836410522\n",
      "epoch: 147, loss: 0.8077076077461243\n",
      "epoch: 148, loss: 0.806959331035614\n",
      "epoch: 149, loss: 0.8062259554862976\n"
     ]
    }
   ],
   "source": [
    "epochs = 150\n",
    "losses = []\n",
    "\n",
    "for i in range (epochs):\n",
    "    y_pred = model(X)\n",
    "    loss = loss_func(y_pred, y)\n",
    "    print(f\"epoch: {i}, loss: {loss.item()}\")\n",
    "    \n",
    "    losses.append(loss)\n",
    "    \n",
    "    optimizer.zero_grad()\n",
    "    loss.backward()\n",
    "    optimizer.step() #gradient descent"
   ]
  },
  {
   "cell_type": "code",
   "execution_count": 9,
   "metadata": {},
   "outputs": [
    {
     "data": {
      "text/plain": [
       "[<matplotlib.lines.Line2D at 0x1207a0e20>]"
      ]
     },
     "execution_count": 9,
     "metadata": {},
     "output_type": "execute_result"
    },
    {
     "data": {
      "image/png": "[encoded data removed]",
      "text/plain": [
       "<Figure size 432x288 with 1 Axes>"
      ]
     },
     "metadata": {
      "needs_background": "light"
     },
     "output_type": "display_data"
    }
   ],
   "source": [
    "plt.xlabel('Epoch')\n",
    "plt.ylabel('Loss')\n",
    "plt.plot(range(epochs),losses)"
   ]
  },
  {
   "cell_type": "code",
   "execution_count": 10,
   "metadata": {},
   "outputs": [
    {
     "data": {
      "image/png": "[encoded data removed]",
      "text/plain": [
       "<Figure size 432x288 with 1 Axes>"
      ]
     },
     "metadata": {
      "needs_background": "light"
     },
     "output_type": "display_data"
    }
   ],
   "source": [
    "plot_fit(\"Trained model\")"
   ]
  },
  {
   "cell_type": "code",
   "execution_count": null,
   "metadata": {},
   "outputs": [],
   "source": []
  },
  {
   "cell_type": "code",
   "execution_count": null,
   "metadata": {},
   "outputs": [],
   "source": []
  }
 ],
 "metadata": {
  "kernelspec": {
   "display_name": "Python 3",
   "language": "python",
   "name": "python3"
  },
  "language_info": {
   "codemirror_mode": {
    "name": "ipython",
    "version": 3
   },
   "file_extension": ".py",
   "mimetype": "text/x-python",
   "name": "python",
   "nbconvert_exporter": "python",
   "pygments_lexer": "ipython3",
   "version": "3.8.5"
  }
 },
 "nbformat": 4,
 "nbformat_minor": 4
}
